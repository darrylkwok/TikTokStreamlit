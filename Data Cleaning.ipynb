{
 "cells": [
  {
   "cell_type": "code",
   "execution_count": null,
   "id": "6822e255",
   "metadata": {},
   "outputs": [],
   "source": [
    "import pandas as pd\n",
    "# Import json library\n",
    "import json"
   ]
  },
  {
   "cell_type": "code",
   "execution_count": null,
   "id": "6fc809f0",
   "metadata": {},
   "outputs": [],
   "source": [
    "df = pd.read_json(\"export.json\")"
   ]
  },
  {
   "cell_type": "code",
   "execution_count": null,
   "id": "9c2fd244",
   "metadata": {},
   "outputs": [],
   "source": [
    "df.head()"
   ]
  },
  {
   "cell_type": "code",
   "execution_count": null,
   "id": "e05eecdc",
   "metadata": {},
   "outputs": [],
   "source": [
    "# Load data\n",
    "with open(\"export.json\", \"r\") as f:\n",
    "    data = json.load(f)\n"
   ]
  },
  {
   "cell_type": "code",
   "execution_count": null,
   "id": "92b8a58b",
   "metadata": {},
   "outputs": [],
   "source": [
    "nested_values = ['video', 'author', 'music', 'stats', 'authorStats']\n",
    "skip_values = ['challenges', 'duetInfo', 'textExtra', 'stickersOnItems']"
   ]
  },
  {
   "cell_type": "code",
   "execution_count": null,
   "id": "7d7081c0",
   "metadata": {},
   "outputs": [],
   "source": [
    "# Initialise an empty dictionary\n",
    "flattened_data = {}\n",
    "# Loop through each video\n",
    "for idx, value in enumerate(data):\n",
    "    flattened_data[idx] = {}\n",
    "    # Loop through each property in each video\n",
    "    for prop_idx, prop_value in value.items():\n",
    "        # Check if it is nested\n",
    "        if prop_idx in nested_values:\n",
    "            if prop_idx in skip_values:\n",
    "                pass\n",
    "            else:\n",
    "                # Loop through each nested property\n",
    "                for nested_idx, nested_value in prop_value.items():\n",
    "                    flattened_data[idx][prop_idx + \"_\" + nested_idx] = nested_value\n",
    "        \n",
    "        # if it is not nested, add it into the flattened dictionary\n",
    "        else:\n",
    "            flattened_data[idx][prop_idx] = prop_value"
   ]
  },
  {
   "cell_type": "code",
   "execution_count": null,
   "id": "73c88d1d",
   "metadata": {},
   "outputs": [],
   "source": [
    "flattened_data[0]"
   ]
  },
  {
   "cell_type": "code",
   "execution_count": null,
   "id": "952c1165",
   "metadata": {},
   "outputs": [],
   "source": []
  },
  {
   "cell_type": "markdown",
   "id": "f997362d",
   "metadata": {},
   "source": [
    "## Test the output"
   ]
  },
  {
   "cell_type": "code",
   "execution_count": null,
   "id": "afd8acb5",
   "metadata": {},
   "outputs": [],
   "source": [
    "df_test = pd.DataFrame.from_dict(flattened_data, orient='index')"
   ]
  },
  {
   "cell_type": "code",
   "execution_count": null,
   "id": "ba998248",
   "metadata": {},
   "outputs": [],
   "source": [
    "df_test.head()"
   ]
  },
  {
   "cell_type": "code",
   "execution_count": null,
   "id": "c3b0ea2d",
   "metadata": {},
   "outputs": [],
   "source": [
    "# Export to csv\n",
    "df_test.to_csv('test_cleanoutput.csv')"
   ]
  },
  {
   "cell_type": "code",
   "execution_count": null,
   "id": "831c1efc",
   "metadata": {},
   "outputs": [],
   "source": []
  },
  {
   "cell_type": "code",
   "execution_count": null,
   "id": "b14f5386",
   "metadata": {},
   "outputs": [],
   "source": []
  },
  {
   "cell_type": "code",
   "execution_count": null,
   "id": "01899c80",
   "metadata": {},
   "outputs": [],
   "source": []
  },
  {
   "cell_type": "code",
   "execution_count": null,
   "id": "a502b1aa",
   "metadata": {},
   "outputs": [],
   "source": []
  }
 ],
 "metadata": {
  "kernelspec": {
   "display_name": "Python 3 (ipykernel)",
   "language": "python",
   "name": "python3"
  },
  "language_info": {
   "codemirror_mode": {
    "name": "ipython",
    "version": 3
   },
   "file_extension": ".py",
   "mimetype": "text/x-python",
   "name": "python",
   "nbconvert_exporter": "python",
   "pygments_lexer": "ipython3",
   "version": "3.7.10"
  }
 },
 "nbformat": 4,
 "nbformat_minor": 5
}
